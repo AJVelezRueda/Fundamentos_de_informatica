{
  "cells": [
    {
      "cell_type": "code",
      "execution_count": 28,
      "metadata": {
        "id": "1kwx9E6xAWwQ"
      },
      "outputs": [
        {
          "name": "stdout",
          "output_type": "stream",
          "text": [
            "celda 1\n"
          ]
        },
        {
          "data": {
            "application/vnd.jupyter.widget-view+json": {
              "model_id": "afa8448652e448ea95958eb7ac49aa8a",
              "version_major": 2,
              "version_minor": 0
            },
            "text/plain": [
              "VBox(children=(HTML(value=\"\\n    <h1 style='font-size:25px; color:black'>\\n        <b>Welcome to my first API!…"
            ]
          },
          "metadata": {},
          "output_type": "display_data"
        },
        {
          "name": "stdout",
          "output_type": "stream",
          "text": [
            "fin celda 1\n"
          ]
        }
      ],
      "source": [
        "# display\n",
        "from IPython.display import HTML, display\n",
        "\n",
        "# widgets\n",
        "import ipywidgets as widgets\n",
        "from ipywidgets import Layout, VBox\n",
        "\n",
        "\n",
        "h1_main_section = widgets.HTML(\"\"\"\n",
        "    <h1 style='font-size:25px; color:black'>\n",
        "        <b>Welcome to my first API!</b>\n",
        "    </h1>\"\"\")\n",
        "\n",
        "main_text = widgets.HTML(\"\"\"\n",
        "    <p style='font-size:25px; color:black'>\n",
        "    This is an API built in Python \n",
        "    </p>\"\"\")\n",
        "\n",
        "main_section_vbox = widgets.VBox([h1_main_section, \n",
        "                    main_text])\n",
        "\n",
        "display(main_section_vbox)"
      ]
    }
  ],
  "metadata": {
    "colab": {
      "name": " ipywidgets.ipynb",
      "provenance": []
    },
    "interpreter": {
      "hash": "31f2aee4e71d21fbe5cf8b01ff0e069b9275f58929596ceb00d14d90e3e16cd6"
    },
    "kernelspec": {
      "display_name": "Python 3.6.9 64-bit",
      "language": "python",
      "name": "python3"
    },
    "language_info": {
      "codemirror_mode": {
        "name": "ipython",
        "version": 3
      },
      "file_extension": ".py",
      "mimetype": "text/x-python",
      "name": "python",
      "nbconvert_exporter": "python",
      "pygments_lexer": "ipython3",
      "version": "3.6.9"
    }
  },
  "nbformat": 4,
  "nbformat_minor": 0
}
